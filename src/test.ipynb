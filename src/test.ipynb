{
 "cells": [
  {
   "cell_type": "code",
   "execution_count": 215,
   "metadata": {},
   "outputs": [],
   "source": [
    "from make_qrcode import make\n",
    "\n",
    "matrix:list[list[bool]] = make(\"https://google.com\")"
   ]
  },
  {
   "cell_type": "code",
   "execution_count": 216,
   "metadata": {},
   "outputs": [],
   "source": [
    "from helper.element import Element"
   ]
  },
  {
   "cell_type": "markdown",
   "metadata": {},
   "source": [
    "# Crtanje koda"
   ]
  },
  {
   "cell_type": "code",
   "execution_count": 217,
   "metadata": {},
   "outputs": [],
   "source": [
    "cells = len(matrix[0])\n",
    "width = height = cells*24\n",
    "\n",
    "modMatrix = matrix\n",
    "\n",
    "\n",
    "for rowIndex in range(cells):\n",
    "  for elementIndex in range(cells):\n",
    "    \n",
    "    if rowIndex < 7 and elementIndex < 7 :\n",
    "      modMatrix[rowIndex][elementIndex] = False\n",
    "\n",
    "    if rowIndex < 7 and elementIndex > cells-8 :\n",
    "      modMatrix[rowIndex][elementIndex] = False\n",
    "    if  rowIndex > cells-8 and elementIndex < 7 :\n",
    "      modMatrix[rowIndex][elementIndex] = False\n",
    "\n",
    "\n",
    "padding = 1\n",
    "\n",
    "def addPadding(modMatrix,padding=padding):\n",
    "  padMatrix = [[False for x in range(cells+padding*2)] for x in range(cells+padding*2)]\n",
    "  for rowIndex in range(cells):\n",
    "    for elementIndex in range(cells): \n",
    "        padMatrix[rowIndex+padding][elementIndex+padding] = modMatrix[rowIndex][elementIndex]\n",
    "  return padMatrix\n"
   ]
  },
  {
   "cell_type": "code",
   "execution_count": 218,
   "metadata": {},
   "outputs": [],
   "source": [
    "import math\n",
    "cellSize = 24\n",
    "svg = Element(type=\"svg\")\n",
    "svg.add_attribute(\"viewBox\",f\"0 0 {width} {height}\")\n",
    "\n",
    "\n",
    "def drawRect(startX,startY,width,height):\n",
    "  el = Element(\"rect\")\n",
    "  el.add_attribute(\"x\",str(startX))\n",
    "  el.add_attribute(\"y\",str(startY))\n",
    "  el.add_attribute(\"width\",str(width))\n",
    "  el.add_attribute(\"height\",str(height))\n",
    "  return el\n",
    "\n",
    "def drawCircle(startX,startY,width):\n",
    "  el = Element('circle')\n",
    "  el.add_attribute('cx',str(startX+width/2))\n",
    "  el.add_attribute('cy',str(startY+width/2))\n",
    "  el.add_attribute('r',str(width/2))\n",
    "  return el\n",
    "\n",
    "def drawRectCode(matrix)->Element:\n",
    "  g = Element('g')\n",
    "  pMatrix = addPadding(matrix,1)\n",
    "  for yIndex, row in enumerate(matrix):\n",
    "    for xIndex, el in enumerate(row):\n",
    "      if el:\n",
    "        rect = drawRect(xIndex*24,yIndex*24,24,24)\n",
    "        rect.add_attribute(\"color\",\"black\")\n",
    "        g.append_child(rect)\n",
    "  return g\n",
    "\n",
    "def drawHorisontalLinesCode(matrix)->Element:\n",
    "  g = Element('g')\n",
    "  pMatrix = addPadding(matrix,1)\n",
    "\n",
    "  size = 22\n",
    "  for yIndex, row in enumerate(matrix):\n",
    "    for xIndex, el in enumerate(row):\n",
    "      if el:\n",
    "        left = pMatrix[yIndex+1][xIndex-1+1]\n",
    "        right = pMatrix[yIndex+1][xIndex+1+1]\n",
    "        element:Element\n",
    "\n",
    "        centerX = xIndex*cellSize+cellSize/2\n",
    "        centerY = yIndex*cellSize+cellSize/2\n",
    "\n",
    "\n",
    "        removed = (cellSize - size) / 2\n",
    "\n",
    "        if left and right:\n",
    "          element = drawRect(xIndex*cellSize,yIndex*cellSize + removed ,24,size)\n",
    "        elif left or right:\n",
    "          element = Element('path')\n",
    "          element.add_attribute('d', \n",
    "          f\"M {xIndex*24} {yIndex*24 + removed}\"+\n",
    "          f\"v {24-removed*2}\"+\n",
    "          f\"h {24/2}\"\n",
    "          f\"a {size/2} {size/2}, 0, 0, 0, 0 {-size}\"\n",
    "          )\n",
    "          if right:\n",
    "            element.add_attribute(\"transform\",f\"rotate({(180 * math.pi ) / math.pi},{centerX},{centerY})\")\n",
    "        else:\n",
    "          element = drawCircle(xIndex*cellSize,yIndex*cellSize,size)\n",
    "        element.add_attribute('color','black')\n",
    "        element.add_attribute('fill','black')\n",
    "        g.append_child(element)\n",
    "  return g\n",
    "\n",
    "svg.append_child(drawHorisontalLinesCode(modMatrix))\n"
   ]
  },
  {
   "cell_type": "markdown",
   "metadata": {},
   "source": [
    "# Oci"
   ]
  },
  {
   "cell_type": "code",
   "execution_count": 219,
   "metadata": {},
   "outputs": [],
   "source": [
    "oko = lambda x,y: f\"M{x*24+5.5*24} {y*24+24}a12 12 90 0112 12v96a12 12 90 01-12 12h-96a12 12 90 01-12-12v-96a12 12 90 0112-12h96m0-24h-108q-24 0-24 24v120q0 24 24 24h120q24 0 24-24v-120q0-24-24-24zm-84 54v60a6 6 90 006 6h60a6 6 90 006-6v-60a6 6 90 00-6-6h-60a6 6 90 00-6 6\"\n",
    "\n",
    "oko00 = oko(0,0)\n",
    "oko01 = oko(0,cells-7)\n",
    "oko10 = oko(cells-7,0)\n",
    "oci = [oko00,oko01,oko10]\n",
    "\n",
    "gOci = Element('g')\n",
    "\n",
    "for d in oci:\n",
    "  path = Element(\"path\")\n",
    "  path.add_attribute(\"d\",d)\n",
    "  path.add_attribute(\"fill\",\"black\")\n",
    "  path.add_attribute(\"fill-rule\",\"evenodd\")\n",
    "  gOci.append_child(path)\n",
    "\n",
    "svg.append_child(gOci)\n",
    "\n"
   ]
  },
  {
   "cell_type": "markdown",
   "metadata": {},
   "source": [
    "# Modifikatori"
   ]
  },
  {
   "cell_type": "code",
   "execution_count": null,
   "metadata": {},
   "outputs": [],
   "source": []
  },
  {
   "cell_type": "code",
   "execution_count": 220,
   "metadata": {},
   "outputs": [],
   "source": [
    "svg.add_attribute(\"width\",str(24*cells))\n",
    "svg.add_attribute(\"height\",str(24*cells))\n",
    "svg.add_attribute(\"xmlns\",\"http://www.w3.org/2000/svg\")\n",
    "svgText = svg.to_text()"
   ]
  },
  {
   "cell_type": "code",
   "execution_count": 221,
   "metadata": {},
   "outputs": [],
   "source": [
    "from svglib.svglib import svg2rlg\n",
    "\n",
    "from reportlab.graphics import renderPM\n",
    "\n",
    "file = open('svg.svg','w',encoding=\"utf-8\")\n",
    "file.write(svgText)\n",
    "file.close()\n",
    "\n",
    "\n",
    "drawing = svg2rlg(\"svg.svg\")\n",
    "\n",
    "\n",
    "renderPM.drawToFile(drawing, \"image.png\", fmt=\"PNG\")"
   ]
  }
 ],
 "metadata": {
  "interpreter": {
   "hash": "d9d1aa180fea327ff20cfd078f174f00160828f682128aa2184b0f8ae00389f7"
  },
  "kernelspec": {
   "display_name": "Python 3.10.1 64-bit (windows store)",
   "language": "python",
   "name": "python3"
  },
  "language_info": {
   "codemirror_mode": {
    "name": "ipython",
    "version": 3
   },
   "file_extension": ".py",
   "mimetype": "text/x-python",
   "name": "python",
   "nbconvert_exporter": "python",
   "pygments_lexer": "ipython3",
   "version": "3.10.1"
  },
  "orig_nbformat": 4
 },
 "nbformat": 4,
 "nbformat_minor": 2
}
